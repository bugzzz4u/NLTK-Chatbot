{
  "cells": [
    {
      "cell_type": "code",
      "execution_count": null,
      "metadata": {
        "id": "m8UT6M6GGQ65"
      },
      "outputs": [],
      "source": [
        "import numpy as np\n",
        "import nltk\n",
        "import string\n",
        "import random"
      ]
    },
    {
      "cell_type": "code",
      "execution_count": null,
      "metadata": {
        "colab": {
          "base_uri": "https://localhost:8080/",
          "height": 243
        },
        "id": "83tshCdumCNZ",
        "outputId": "7a1259e6-05e8-4a4b-dc1f-418963ca159d"
      },
      "outputs": [
        {
          "data": {
            "application/vnd.google.colaboratory.intrinsic+json": {
              "type": "string"
            },
            "text/plain": [
              "'A chatbot (originally chatterbot[1]) is a software application or web interface that is designed to mimic human conversation through text or voice interactions.[2][3][4] Modern chatbots are typically online and use generative artificial intelligence systems that are capable of maintaining a conversation with a user in natural language and simulating the way a human would behave as a conversational partner. Such chatbots often use deep learning and natural language processing, but simpler chatbots have existed for decades.\\n\\nSince late 2022, the field has gained widespread attention due to the popularity of OpenAI\\'s ChatGPT,[5][6] followed by alternatives such as Microsoft\\'s Copilot and Google\\'s Gemini.[7] Such examples reflect the recent practice of basing such products upon broad foundational large language models, such as GPT-4 or the Gemini language model, that get fine-tuned so as to target specific tasks or applications (i.e., simulating human conversation, in the case of chatbots). Chatbots can also be designed or customized to further target even more specific situations and/or particular subject-matter domains.[8]\\n\\nA major area where chatbots have long been used is in customer service and support, with various sorts of virtual assistants.[9] Companies spanning a wide range of industries have begun using the latest generative artificial intelligence technologies to power more advanced developments in such areas.[8]\\n\\nBackground\\nIn 1950, Alan Turing\\'s famous article \"Computing Machinery and Intelligence\" was published,[10] which proposed what is now called the Turing test as a criterion of intelligence. This criterion depends on the ability of a computer program to impersonate a human in a real-time written conversation with a human judge to the extent that the judge is unable to distinguish reliably—on the basis of the conversational content alone—between the program and a real human. The notoriety of Turing\\'s proposed test stimulated great interest in Joseph Weizenbaum\\'s program ELIZA, published in 1966, which seemed to be able to fool users into believing that they were conversing with a real human. However Weizenbaum himself did not claim that ELIZA was genuinely intelligent, and the introduction to his paper presented it more as a debunking exercise:\\n\\nIn artificial intelligence, machines are made to behave in wondrous ways, often sufficient to dazzle even the most experienced observer. But once a particular program is unmasked, once its inner workings are explained, its magic crumbles away; it stands revealed as a mere collection of procedures. The observer says to himself \"I could have written that\". With that thought, he moves the program in question from the shelf marked \"intelligent\", to that reserved for curios. The object of this paper is to cause just such a re-evaluation of the program about to be \"explained\". Few programs ever needed it more.[11]\\n\\nELIZA\\'s key method of operation (copied by chatbot designers ever since) involves the recognition of clue words or phrases in the input, and the output of the corresponding pre-prepared or pre-programmed responses that can move the conversation forward in an apparently meaningful way (e.g. by responding to any input that contains the word \\'MOTHER\\' with \\'TELL ME MORE ABOUT YOUR FAMILY\\').[11] Thus an illusion of understanding is generated, even though the processing involved has been merely superficial. ELIZA showed that such an illusion is surprisingly easy to generate because human judges are so ready to give the benefit of the doubt when conversational responses are capable of being interpreted as \"intelligent\".\\n\\nInterface designers have come to appreciate that humans\\' readiness to interpret computer output as genuinely conversational—even when it is actually based on rather simple pattern-matching—can be exploited for useful purposes. Most people prefer to engage with programs that are human-like, and this gives chatbot-style techniques a potentially useful role in interactive systems that need to elicit information from users, as long as that information is relatively straightforward and falls into predictable categories. Thus, for example, online help systems can usefully employ chatbot techniques to identify the area of help that users require, potentially providing a \"friendlier\" interface than a more formal search or menu system. This sort of usage holds the prospect of moving chatbot technology from Weizenbaum\\'s \"shelf ... reserved for curios\" to that marked \"genuinely useful computational methods\".\\n\\nDevelopment\\nAmong the most notable early chatbots are ELIZA (1966) and PARRY (1972).[12][13][14][15] More recent notable programs include A.L.I.C.E., Jabberwacky and D.U.D.E (Agence Nationale de la Recherche and CNRS 2006). While ELIZA and PARRY were used exclusively to simulate typed conversation, many chatbots now include other functional features, such as games and web searching abilities. In 1984, a book called The Policeman\\'s Beard is Half Constructed was published, allegedly written by the chatbot Racter (though the program as released would not have been capable of doing so).[16]\\n\\nFrom 1978[17] to some time after 1983,[18] the CYRUS project led by Janet Kolodner constructed a chatbot simulating Cyrus Vance (57th United States Secretary of State). It used case-based reasoning, and updated its database daily by parsing wire news from United Press International. The program was unable to process the news items subsequent to the surprise resignation of Cyrus Vance in April 1980, and the team constructed another chatbot simulating his successor, Edmund Muskie.[19][18]\\n\\nOne pertinent field of AI research is natural-language processing. Usually, weak AI fields employ specialized software or programming languages created specifically for the narrow function required. For example, A.L.I.C.E. uses a markup language called AIML,[3] which is specific to its function as a conversational agent, and has since been adopted by various other developers of, so-called, Alicebots. Nevertheless, A.L.I.C.E. is still purely based on pattern matching techniques without any reasoning capabilities, the same technique ELIZA was using back in 1966. This is not strong AI, which would require sapience and logical reasoning abilities.\\n\\nJabberwacky learns new responses and context based on real-time user interactions, rather than being driven from a static database. Some more recent chatbots also combine real-time learning with evolutionary algorithms that optimize their ability to communicate based on each conversation held. Still, there is currently no general purpose conversational artificial intelligence, and some software developers focus on the practical aspect, information retrieval.\\n\\nChatbot competitions focus on the Turing test or more specific goals. Two such annual contests are the Loebner Prize and The Chatterbox Challenge (the latter has been offline since 2015, however, materials can still be found from web archives).[20]\\n\\nChatbots may use artificial neural networks as a language model. For example, generative pre-trained transformers (GPT), which use the transformer architecture, have become common to build sophisticated chatbots. The \"pre-training\" in its name refers to the initial training process on a large text corpus, which provides a solid foundation for the model to perform well on downstream tasks with limited amounts of task-specific data. An example of a GPT chatbot is ChatGPT.[21] Despite criticism of its accuracy and tendency to “hallucinate”—that is, to confidently output false information and even cite non-existent sources—ChatGPT has gained attention for its detailed responses and historical knowledge. Another example is BioGPT, developed by Microsoft, which focuses on answering biomedical questions.[22][23] In November 2023, Amazon announced a new chatbot, called Q, for people to use at work.[24]\\n\\nDBpedia created a chatbot during the GSoC of 2017.[25][26][27] It can communicate through Facebook Messenger.\\n\\nApplication\\nSee also: Virtual assistant\\nMessaging apps\\nMany companies\\' chatbots run on messaging apps or simply via SMS. They are used for B2C customer service, sales and marketing.[28]\\n\\nIn 2016, Facebook Messenger allowed developers to place chatbots on their platform. There were 30,000 bots created for Messenger in the first six months, rising to 100,000 by September 2017.[29]\\n\\nSince September 2017, this has also been as part of a pilot program on WhatsApp. Airlines KLM and Aeroméxico both announced their participation in the testing;[30][31][32][33] both airlines had previously launched customer services on the Facebook Messenger platform.\\n\\nThe bots usually appear as one of the user\\'s contacts, but can sometimes act as participants in a group chat.\\n\\nMany banks, insurers, media companies, e-commerce companies, airlines, hotel chains, retailers, health care providers, government entities and restaurant chains have used chatbots to answer simple questions, increase customer engagement,[34] for promotion, and to offer additional ways to order from them.[35] Chatbots are also used in market research to collect short survey responses.[36]\\n\\nA 2017 study showed 4% of companies used chatbots.[37] According to a 2016 study, 80% of businesses said they intended to have one by 2020.[38]\\n\\nAs part of company apps and websites\\nPrevious generations of chatbots were present on company websites, e.g. Ask Jenn from Alaska Airlines which debuted in 2008[39] or Expedia\\'s virtual customer service agent which launched in 2011.[39][40] The newer generation of chatbots includes IBM Watson-powered \"Rocky\", introduced in February 2017 by the New York City-based e-commerce company Rare Carat to provide information to prospective diamond buyers.[41][42]\\n\\nChatbot sequences\\nUsed by marketers to script sequences of messages, very similar to an autoresponder sequence. Such sequences can be triggered by user opt-in or the use of keywords within user interactions. After a trigger occurs a sequence of messages is delivered until the next anticipated user response. Each user response is used in the decision tree to help the chatbot navigate the response sequences to deliver the correct response message.\\n\\nCompany internal platforms\\nOther companies explore ways they can use chatbots internally, for example for Customer Support, Human Resources, or even in Internet-of-Things (IoT) projects. Overstock.com, for one, has reportedly launched a chatbot named Mila to automate certain simple yet time-consuming processes when requesting sick leave.[43] Other large companies such as Lloyds Banking Group, Royal Bank of Scotland, Renault and Citroën are now using automated online assistants instead of call centres with humans to provide a first point of contact. A SaaS chatbot business ecosystem has been steadily growing since the F8 Conference when Facebook’s Mark Zuckerberg unveiled that Messenger would allow chatbots into the app.[44] In large companies, like in hospitals and aviation organizations, IT architects are designing reference architectures for Intelligent Chatbots that are used to unlock and share knowledge and experience in the organization more efficiently, and reduce the errors in answers from expert service desks significantly.[45] These Intelligent Chatbots make use of all kinds of artificial intelligence like image moderation and natural-language understanding (NLU), natural-language generation (NLG), machine learning and deep learning.\\n\\nCustomer service\\nMany high-tech banking organizations are looking to integrate automated AI-based solutions such as chatbots into their customer service in order to provide faster and cheaper assistance to their clients who are becoming increasingly comfortable with technology. In particular, chatbots can efficiently conduct a dialogue, usually replacing other communication tools such as email, phone, or SMS. In banking, their major application is related to quick customer service answering common requests, as well as transactional support.\\n\\nSeveral studies report significant reduction in the cost of customer services, expected to lead to billions of dollars of economic savings in the next ten years.[46] In 2019, Gartner predicted that by 2021, 15% of all customer service interactions globally will be handled completely by AI.[47] A study by Juniper Research in 2019 estimates retail sales resulting from chatbot-based interactions will reach $112 billion by 2023.[48]\\n\\nSince 2016, when Facebook allowed businesses to deliver automated customer support, e-commerce guidance, content, and interactive experiences through chatbots, a large variety of chatbots were developed for the Facebook Messenger platform.[49]\\n\\nIn 2016, Russia-based Tochka Bank launched the world\\'s first Facebook bot for a range of financial services, including a possibility of making payments.[50]\\n\\nIn July 2016, Barclays Africa also launched a Facebook chatbot, making it the first bank to do so in Africa.[51]\\n\\nThe France\\'s third-largest bank by total assets[52] Société Générale launched their chatbot called SoBot in March 2018. While 80% of users of the SoBot expressed their satisfaction after having tested it, Société Générale deputy director Bertrand Cozzarolo stated that it will never replace the expertise provided by a human advisor. [53]\\n\\nThe advantages of using chatbots for customer interactions in banking include cost reduction, financial advice, and 24/7 support.[54][55]\\n\\nHealthcare\\nSee also: Artificial intelligence in healthcare\\nChatbots are also appearing in the healthcare industry.[56][57] A study suggested that physicians in the United States believed that chatbots would be most beneficial for scheduling doctor appointments, locating health clinics, or providing medication information.[58]\\n\\nWhatsapp has teamed up with the World Health Organization (WHO) to make a chatbot service that answers users\\' questions on COVID-19.[59]\\n\\nIn 2020, The Indian Government launched a chatbot called MyGov Corona Helpdesk,[60] that worked through Whatsapp and helped people access information about the Coronavirus (COVID-19) pandemic.[61][62]\\n\\nCertain patient groups are still reluctant to use chatbots. A mixed-methods study showed that people are still hesitant to use chatbots for their healthcare due to poor understanding of the technological complexity, the lack of empathy, and concerns about cyber-security.[63] The analysis showed that while 6% had heard of a health chatbot and 3% had experience of using it, 67% perceived themselves as likely to use one within 12 months. The majority of participants would use a health chatbot for seeking general health information (78%), booking a medical appointment (78%), and looking for local health services (80%). However, a health chatbot was perceived as less suitable for seeking results of medical tests and seeking specialist advice such as sexual health. The analysis of attitudinal variables showed that most participants reported their preference for discussing their health with doctors (73%) and having access to reliable and accurate health information (93%). While 80% were curious about new technologies that could improve their health, 66% reported only seeking a doctor when experiencing a health problem and 65% thought that a chatbot was a good idea. Interestingly, 30% reported dislike about talking to computers, 41% felt it would be strange to discuss health matters with a chatbot and about half were unsure if they could trust the advice given by a chatbot. Therefore, perceived trustworthiness, individual attitudes towards bots, and dislike for talking to computers are the main barriers to health chatbots.\\n\\nPolitics\\nSee also: Government by algorithm § AI politicians\\nIn New Zealand, the chatbot SAM – short for Semantic Analysis Machine[64] (made by Nick Gerritsen of Touchtech[65]) – has been developed. It is designed to share its political thoughts, for example on topics such as climate change, healthcare and education, etc. It talks to people through Facebook Messenger.[66][67][68][69]\\n\\nIn 2022, the chatbot \"Leader Lars\" or \"Leder Lars\" was nominated for The Synthetic Party to run in the Danish parliamentary election,[70] and was built by the artist collective Computer Lars.[71] Leader Lars differed from earlier virtual politicians by leading a political party and by not pretending to be an objective candidate.[72] This chatbot engaged in critical discussions on politics with users from around the world.[73]\\n\\nIn India, the state government has launched a chatbot for its Aaple Sarkar platform,[74] which provides conversational access to information regarding public services managed.[75][76]\\n\\nToys\\nChatbots have also been incorporated into devices not primarily meant for computing, such as toys.[77]\\n\\nHello Barbie is an Internet-connected version of the doll that uses a chatbot provided by the company ToyTalk,[78] which previously used the chatbot for a range of smartphone-based characters for children.[79] These characters\\' behaviors are constrained by a set of rules that in effect emulate a particular character and produce a storyline.[80]\\n\\nThe My Friend Cayla doll was marketed as a line of 18-inch (46 cm) dolls which uses speech recognition technology in conjunction with an Android or iOS mobile app to recognize the child\\'s speech and have a conversation. It, like the Hello Barbie doll, attracted controversy due to vulnerabilities with the doll\\'s Bluetooth stack and its use of data collected from the child\\'s speech.\\n\\nIBM\\'s Watson computer has been used as the basis for chatbot-based educational toys for companies such as CogniToys[77] intended to interact with children for educational purposes.[81]\\n\\nMalicious use\\nMalicious chatbots are frequently used to fill chat rooms with spam and advertisements, by mimicking human behavior and conversations or to entice people into revealing personal information, such as bank account numbers. They were commonly found on Yahoo! Messenger, Windows Live Messenger, AOL Instant Messenger and other instant messaging protocols. There has also been a published report of a chatbot used in a fake personal ad on a dating service\\'s website.[82]\\n\\nTay, an AI chatbot that learns from previous interaction, caused major controversy due to it being targeted by internet trolls on Twitter. The bot was exploited, and after 16 hours began to send extremely offensive Tweets to users. This suggests that although the bot learned effectively from experience, adequate protection was not put in place to prevent misuse.[83]\\n\\nIf a text-sending algorithm can pass itself off as a human instead of a chatbot, its message would be more credible. Therefore, human-seeming chatbots with well-crafted online identities could start scattering fake news that seems plausible, for instance making false claims during an election. With enough chatbots, it might be even possible to achieve artificial social proof.[84][85]\\n\\nLimitations of chatbots\\nThe creation and implementation of chatbots is still a developing area, heavily related to artificial intelligence and machine learning, so the provided solutions, while possessing obvious advantages, have some important limitations in terms of functionalities and use cases. However, this is changing over time.\\n\\nThe most common limitations are listed below:[86]\\n\\nAs the input/output database is fixed and limited, chatbots can fail while dealing with an unsaved query.[55]\\nA chatbot\\'s efficiency highly depends on language processing and is limited because of irregularities, such as accents and mistakes.\\nChatbots are unable to deal with multiple questions at the same time and so conversation opportunities are limited.[86]\\nChatbots require a large amount of conversational data to train. Generative models, which are based on deep learning algorithms to generate new responses word by word based on user input, are usually trained on a large dataset of natural-language phrases.[3]\\nChatbots have difficulty managing non-linear conversations that must go back and forth on a topic with a user.[87]\\nAs it happens usually with technology-led changes in existing services, some consumers, more often than not from older generations, are uncomfortable with chatbots due to their limited understanding, making it obvious that their requests are being dealt with by machines.[86]\\nChatbots and jobs\\nChatbots are increasingly present in businesses and often are used to automate tasks that do not require skill-based talents. With customer service taking place via messaging apps as well as phone calls, there are growing numbers of use-cases where chatbot deployment gives organizations a clear return on investment. Call center workers may be particularly at risk from AI-driven chatbots.[88]\\n\\nChatbot jobs\\n\\nChatbot developers create, debug, and maintain applications that automate customer services or other communication processes. Their duties include reviewing and simplifying code when needed. They may also help companies implement bots in their operations.\\n\\nA study by Forrester (June 2017) predicted that 25% of all jobs would be impacted by AI technologies by 2019.[89]\\n\\nPrompt Engineering, the task of designing and refining prompts (inputs) leading to desired AI-generated responses has gained significant demand and popularity in recent years, with the advent of sophisticated models, notably OpenAI’s GPT series (which still contain notable flaws and limitations, as previously outlined).'"
            ]
          },
          "execution_count": 2,
          "metadata": {},
          "output_type": "execute_result"
        }
      ],
      "source": [
        "f = open('/content/data.txt','r',errors ='ignore')\n",
        "doc = f.read()\n",
        "doc"
      ]
    },
    {
      "cell_type": "code",
      "execution_count": null,
      "metadata": {
        "colab": {
          "base_uri": "https://localhost:8080/"
        },
        "id": "iRjAa2tUmxm1",
        "outputId": "a8cf6bb1-e6f3-49dc-f3ae-bb0d77939425"
      },
      "outputs": [
        {
          "name": "stderr",
          "output_type": "stream",
          "text": [
            "[nltk_data] Downloading package punkt to /root/nltk_data...\n",
            "[nltk_data]   Package punkt is already up-to-date!\n",
            "[nltk_data] Downloading package wordnet to /root/nltk_data...\n",
            "[nltk_data]   Package wordnet is already up-to-date!\n",
            "[nltk_data] Downloading package omw-1.4 to /root/nltk_data...\n",
            "[nltk_data]   Package omw-1.4 is already up-to-date!\n"
          ]
        },
        {
          "data": {
            "text/plain": [
              "True"
            ]
          },
          "execution_count": 3,
          "metadata": {},
          "output_type": "execute_result"
        }
      ],
      "source": [
        "doc = doc.lower()\n",
        "nltk.download('punkt') #tokenizer\n",
        "nltk.download('wordnet') #dictionary\n",
        "nltk.download('omw-1.4')"
      ]
    },
    {
      "cell_type": "code",
      "execution_count": null,
      "metadata": {
        "colab": {
          "base_uri": "https://localhost:8080/",
          "height": 243
        },
        "id": "oippr2ELrSLv",
        "outputId": "cd77f361-03b5-462b-9c50-f101fd7045ca"
      },
      "outputs": [
        {
          "data": {
            "application/vnd.google.colaboratory.intrinsic+json": {
              "type": "string"
            },
            "text/plain": [
              "'a chatbot (originally chatterbot[1]) is a software application or web interface that is designed to mimic human conversation through text or voice interactions.[2][3][4] modern chatbots are typically online and use generative artificial intelligence systems that are capable of maintaining a conversation with a user in natural language and simulating the way a human would behave as a conversational partner. such chatbots often use deep learning and natural language processing, but simpler chatbots have existed for decades.\\n\\nsince late 2022, the field has gained widespread attention due to the popularity of openai\\'s chatgpt,[5][6] followed by alternatives such as microsoft\\'s copilot and google\\'s gemini.[7] such examples reflect the recent practice of basing such products upon broad foundational large language models, such as gpt-4 or the gemini language model, that get fine-tuned so as to target specific tasks or applications (i.e., simulating human conversation, in the case of chatbots). chatbots can also be designed or customized to further target even more specific situations and/or particular subject-matter domains.[8]\\n\\na major area where chatbots have long been used is in customer service and support, with various sorts of virtual assistants.[9] companies spanning a wide range of industries have begun using the latest generative artificial intelligence technologies to power more advanced developments in such areas.[8]\\n\\nbackground\\nin 1950, alan turing\\'s famous article \"computing machinery and intelligence\" was published,[10] which proposed what is now called the turing test as a criterion of intelligence. this criterion depends on the ability of a computer program to impersonate a human in a real-time written conversation with a human judge to the extent that the judge is unable to distinguish reliably—on the basis of the conversational content alone—between the program and a real human. the notoriety of turing\\'s proposed test stimulated great interest in joseph weizenbaum\\'s program eliza, published in 1966, which seemed to be able to fool users into believing that they were conversing with a real human. however weizenbaum himself did not claim that eliza was genuinely intelligent, and the introduction to his paper presented it more as a debunking exercise:\\n\\nin artificial intelligence, machines are made to behave in wondrous ways, often sufficient to dazzle even the most experienced observer. but once a particular program is unmasked, once its inner workings are explained, its magic crumbles away; it stands revealed as a mere collection of procedures. the observer says to himself \"i could have written that\". with that thought, he moves the program in question from the shelf marked \"intelligent\", to that reserved for curios. the object of this paper is to cause just such a re-evaluation of the program about to be \"explained\". few programs ever needed it more.[11]\\n\\neliza\\'s key method of operation (copied by chatbot designers ever since) involves the recognition of clue words or phrases in the input, and the output of the corresponding pre-prepared or pre-programmed responses that can move the conversation forward in an apparently meaningful way (e.g. by responding to any input that contains the word \\'mother\\' with \\'tell me more about your family\\').[11] thus an illusion of understanding is generated, even though the processing involved has been merely superficial. eliza showed that such an illusion is surprisingly easy to generate because human judges are so ready to give the benefit of the doubt when conversational responses are capable of being interpreted as \"intelligent\".\\n\\ninterface designers have come to appreciate that humans\\' readiness to interpret computer output as genuinely conversational—even when it is actually based on rather simple pattern-matching—can be exploited for useful purposes. most people prefer to engage with programs that are human-like, and this gives chatbot-style techniques a potentially useful role in interactive systems that need to elicit information from users, as long as that information is relatively straightforward and falls into predictable categories. thus, for example, online help systems can usefully employ chatbot techniques to identify the area of help that users require, potentially providing a \"friendlier\" interface than a more formal search or menu system. this sort of usage holds the prospect of moving chatbot technology from weizenbaum\\'s \"shelf ... reserved for curios\" to that marked \"genuinely useful computational methods\".\\n\\ndevelopment\\namong the most notable early chatbots are eliza (1966) and parry (1972).[12][13][14][15] more recent notable programs include a.l.i.c.e., jabberwacky and d.u.d.e (agence nationale de la recherche and cnrs 2006). while eliza and parry were used exclusively to simulate typed conversation, many chatbots now include other functional features, such as games and web searching abilities. in 1984, a book called the policeman\\'s beard is half constructed was published, allegedly written by the chatbot racter (though the program as released would not have been capable of doing so).[16]\\n\\nfrom 1978[17] to some time after 1983,[18] the cyrus project led by janet kolodner constructed a chatbot simulating cyrus vance (57th united states secretary of state). it used case-based reasoning, and updated its database daily by parsing wire news from united press international. the program was unable to process the news items subsequent to the surprise resignation of cyrus vance in april 1980, and the team constructed another chatbot simulating his successor, edmund muskie.[19][18]\\n\\none pertinent field of ai research is natural-language processing. usually, weak ai fields employ specialized software or programming languages created specifically for the narrow function required. for example, a.l.i.c.e. uses a markup language called aiml,[3] which is specific to its function as a conversational agent, and has since been adopted by various other developers of, so-called, alicebots. nevertheless, a.l.i.c.e. is still purely based on pattern matching techniques without any reasoning capabilities, the same technique eliza was using back in 1966. this is not strong ai, which would require sapience and logical reasoning abilities.\\n\\njabberwacky learns new responses and context based on real-time user interactions, rather than being driven from a static database. some more recent chatbots also combine real-time learning with evolutionary algorithms that optimize their ability to communicate based on each conversation held. still, there is currently no general purpose conversational artificial intelligence, and some software developers focus on the practical aspect, information retrieval.\\n\\nchatbot competitions focus on the turing test or more specific goals. two such annual contests are the loebner prize and the chatterbox challenge (the latter has been offline since 2015, however, materials can still be found from web archives).[20]\\n\\nchatbots may use artificial neural networks as a language model. for example, generative pre-trained transformers (gpt), which use the transformer architecture, have become common to build sophisticated chatbots. the \"pre-training\" in its name refers to the initial training process on a large text corpus, which provides a solid foundation for the model to perform well on downstream tasks with limited amounts of task-specific data. an example of a gpt chatbot is chatgpt.[21] despite criticism of its accuracy and tendency to “hallucinate”—that is, to confidently output false information and even cite non-existent sources—chatgpt has gained attention for its detailed responses and historical knowledge. another example is biogpt, developed by microsoft, which focuses on answering biomedical questions.[22][23] in november 2023, amazon announced a new chatbot, called q, for people to use at work.[24]\\n\\ndbpedia created a chatbot during the gsoc of 2017.[25][26][27] it can communicate through facebook messenger.\\n\\napplication\\nsee also: virtual assistant\\nmessaging apps\\nmany companies\\' chatbots run on messaging apps or simply via sms. they are used for b2c customer service, sales and marketing.[28]\\n\\nin 2016, facebook messenger allowed developers to place chatbots on their platform. there were 30,000 bots created for messenger in the first six months, rising to 100,000 by september 2017.[29]\\n\\nsince september 2017, this has also been as part of a pilot program on whatsapp. airlines klm and aeroméxico both announced their participation in the testing;[30][31][32][33] both airlines had previously launched customer services on the facebook messenger platform.\\n\\nthe bots usually appear as one of the user\\'s contacts, but can sometimes act as participants in a group chat.\\n\\nmany banks, insurers, media companies, e-commerce companies, airlines, hotel chains, retailers, health care providers, government entities and restaurant chains have used chatbots to answer simple questions, increase customer engagement,[34] for promotion, and to offer additional ways to order from them.[35] chatbots are also used in market research to collect short survey responses.[36]\\n\\na 2017 study showed 4% of companies used chatbots.[37] according to a 2016 study, 80% of businesses said they intended to have one by 2020.[38]\\n\\nas part of company apps and websites\\nprevious generations of chatbots were present on company websites, e.g. ask jenn from alaska airlines which debuted in 2008[39] or expedia\\'s virtual customer service agent which launched in 2011.[39][40] the newer generation of chatbots includes ibm watson-powered \"rocky\", introduced in february 2017 by the new york city-based e-commerce company rare carat to provide information to prospective diamond buyers.[41][42]\\n\\nchatbot sequences\\nused by marketers to script sequences of messages, very similar to an autoresponder sequence. such sequences can be triggered by user opt-in or the use of keywords within user interactions. after a trigger occurs a sequence of messages is delivered until the next anticipated user response. each user response is used in the decision tree to help the chatbot navigate the response sequences to deliver the correct response message.\\n\\ncompany internal platforms\\nother companies explore ways they can use chatbots internally, for example for customer support, human resources, or even in internet-of-things (iot) projects. overstock.com, for one, has reportedly launched a chatbot named mila to automate certain simple yet time-consuming processes when requesting sick leave.[43] other large companies such as lloyds banking group, royal bank of scotland, renault and citroën are now using automated online assistants instead of call centres with humans to provide a first point of contact. a saas chatbot business ecosystem has been steadily growing since the f8 conference when facebook’s mark zuckerberg unveiled that messenger would allow chatbots into the app.[44] in large companies, like in hospitals and aviation organizations, it architects are designing reference architectures for intelligent chatbots that are used to unlock and share knowledge and experience in the organization more efficiently, and reduce the errors in answers from expert service desks significantly.[45] these intelligent chatbots make use of all kinds of artificial intelligence like image moderation and natural-language understanding (nlu), natural-language generation (nlg), machine learning and deep learning.\\n\\ncustomer service\\nmany high-tech banking organizations are looking to integrate automated ai-based solutions such as chatbots into their customer service in order to provide faster and cheaper assistance to their clients who are becoming increasingly comfortable with technology. in particular, chatbots can efficiently conduct a dialogue, usually replacing other communication tools such as email, phone, or sms. in banking, their major application is related to quick customer service answering common requests, as well as transactional support.\\n\\nseveral studies report significant reduction in the cost of customer services, expected to lead to billions of dollars of economic savings in the next ten years.[46] in 2019, gartner predicted that by 2021, 15% of all customer service interactions globally will be handled completely by ai.[47] a study by juniper research in 2019 estimates retail sales resulting from chatbot-based interactions will reach $112 billion by 2023.[48]\\n\\nsince 2016, when facebook allowed businesses to deliver automated customer support, e-commerce guidance, content, and interactive experiences through chatbots, a large variety of chatbots were developed for the facebook messenger platform.[49]\\n\\nin 2016, russia-based tochka bank launched the world\\'s first facebook bot for a range of financial services, including a possibility of making payments.[50]\\n\\nin july 2016, barclays africa also launched a facebook chatbot, making it the first bank to do so in africa.[51]\\n\\nthe france\\'s third-largest bank by total assets[52] société générale launched their chatbot called sobot in march 2018. while 80% of users of the sobot expressed their satisfaction after having tested it, société générale deputy director bertrand cozzarolo stated that it will never replace the expertise provided by a human advisor. [53]\\n\\nthe advantages of using chatbots for customer interactions in banking include cost reduction, financial advice, and 24/7 support.[54][55]\\n\\nhealthcare\\nsee also: artificial intelligence in healthcare\\nchatbots are also appearing in the healthcare industry.[56][57] a study suggested that physicians in the united states believed that chatbots would be most beneficial for scheduling doctor appointments, locating health clinics, or providing medication information.[58]\\n\\nwhatsapp has teamed up with the world health organization (who) to make a chatbot service that answers users\\' questions on covid-19.[59]\\n\\nin 2020, the indian government launched a chatbot called mygov corona helpdesk,[60] that worked through whatsapp and helped people access information about the coronavirus (covid-19) pandemic.[61][62]\\n\\ncertain patient groups are still reluctant to use chatbots. a mixed-methods study showed that people are still hesitant to use chatbots for their healthcare due to poor understanding of the technological complexity, the lack of empathy, and concerns about cyber-security.[63] the analysis showed that while 6% had heard of a health chatbot and 3% had experience of using it, 67% perceived themselves as likely to use one within 12 months. the majority of participants would use a health chatbot for seeking general health information (78%), booking a medical appointment (78%), and looking for local health services (80%). however, a health chatbot was perceived as less suitable for seeking results of medical tests and seeking specialist advice such as sexual health. the analysis of attitudinal variables showed that most participants reported their preference for discussing their health with doctors (73%) and having access to reliable and accurate health information (93%). while 80% were curious about new technologies that could improve their health, 66% reported only seeking a doctor when experiencing a health problem and 65% thought that a chatbot was a good idea. interestingly, 30% reported dislike about talking to computers, 41% felt it would be strange to discuss health matters with a chatbot and about half were unsure if they could trust the advice given by a chatbot. therefore, perceived trustworthiness, individual attitudes towards bots, and dislike for talking to computers are the main barriers to health chatbots.\\n\\npolitics\\nsee also: government by algorithm § ai politicians\\nin new zealand, the chatbot sam – short for semantic analysis machine[64] (made by nick gerritsen of touchtech[65]) – has been developed. it is designed to share its political thoughts, for example on topics such as climate change, healthcare and education, etc. it talks to people through facebook messenger.[66][67][68][69]\\n\\nin 2022, the chatbot \"leader lars\" or \"leder lars\" was nominated for the synthetic party to run in the danish parliamentary election,[70] and was built by the artist collective computer lars.[71] leader lars differed from earlier virtual politicians by leading a political party and by not pretending to be an objective candidate.[72] this chatbot engaged in critical discussions on politics with users from around the world.[73]\\n\\nin india, the state government has launched a chatbot for its aaple sarkar platform,[74] which provides conversational access to information regarding public services managed.[75][76]\\n\\ntoys\\nchatbots have also been incorporated into devices not primarily meant for computing, such as toys.[77]\\n\\nhello barbie is an internet-connected version of the doll that uses a chatbot provided by the company toytalk,[78] which previously used the chatbot for a range of smartphone-based characters for children.[79] these characters\\' behaviors are constrained by a set of rules that in effect emulate a particular character and produce a storyline.[80]\\n\\nthe my friend cayla doll was marketed as a line of 18-inch (46 cm) dolls which uses speech recognition technology in conjunction with an android or ios mobile app to recognize the child\\'s speech and have a conversation. it, like the hello barbie doll, attracted controversy due to vulnerabilities with the doll\\'s bluetooth stack and its use of data collected from the child\\'s speech.\\n\\nibm\\'s watson computer has been used as the basis for chatbot-based educational toys for companies such as cognitoys[77] intended to interact with children for educational purposes.[81]\\n\\nmalicious use\\nmalicious chatbots are frequently used to fill chat rooms with spam and advertisements, by mimicking human behavior and conversations or to entice people into revealing personal information, such as bank account numbers. they were commonly found on yahoo! messenger, windows live messenger, aol instant messenger and other instant messaging protocols. there has also been a published report of a chatbot used in a fake personal ad on a dating service\\'s website.[82]\\n\\ntay, an ai chatbot that learns from previous interaction, caused major controversy due to it being targeted by internet trolls on twitter. the bot was exploited, and after 16 hours began to send extremely offensive tweets to users. this suggests that although the bot learned effectively from experience, adequate protection was not put in place to prevent misuse.[83]\\n\\nif a text-sending algorithm can pass itself off as a human instead of a chatbot, its message would be more credible. therefore, human-seeming chatbots with well-crafted online identities could start scattering fake news that seems plausible, for instance making false claims during an election. with enough chatbots, it might be even possible to achieve artificial social proof.[84][85]\\n\\nlimitations of chatbots\\nthe creation and implementation of chatbots is still a developing area, heavily related to artificial intelligence and machine learning, so the provided solutions, while possessing obvious advantages, have some important limitations in terms of functionalities and use cases. however, this is changing over time.\\n\\nthe most common limitations are listed below:[86]\\n\\nas the input/output database is fixed and limited, chatbots can fail while dealing with an unsaved query.[55]\\na chatbot\\'s efficiency highly depends on language processing and is limited because of irregularities, such as accents and mistakes.\\nchatbots are unable to deal with multiple questions at the same time and so conversation opportunities are limited.[86]\\nchatbots require a large amount of conversational data to train. generative models, which are based on deep learning algorithms to generate new responses word by word based on user input, are usually trained on a large dataset of natural-language phrases.[3]\\nchatbots have difficulty managing non-linear conversations that must go back and forth on a topic with a user.[87]\\nas it happens usually with technology-led changes in existing services, some consumers, more often than not from older generations, are uncomfortable with chatbots due to their limited understanding, making it obvious that their requests are being dealt with by machines.[86]\\nchatbots and jobs\\nchatbots are increasingly present in businesses and often are used to automate tasks that do not require skill-based talents. with customer service taking place via messaging apps as well as phone calls, there are growing numbers of use-cases where chatbot deployment gives organizations a clear return on investment. call center workers may be particularly at risk from ai-driven chatbots.[88]\\n\\nchatbot jobs\\n\\nchatbot developers create, debug, and maintain applications that automate customer services or other communication processes. their duties include reviewing and simplifying code when needed. they may also help companies implement bots in their operations.\\n\\na study by forrester (june 2017) predicted that 25% of all jobs would be impacted by ai technologies by 2019.[89]\\n\\nprompt engineering, the task of designing and refining prompts (inputs) leading to desired ai-generated responses has gained significant demand and popularity in recent years, with the advent of sophisticated models, notably openai’s gpt series (which still contain notable flaws and limitations, as previously outlined).'"
            ]
          },
          "execution_count": 4,
          "metadata": {},
          "output_type": "execute_result"
        }
      ],
      "source": [
        "doc"
      ]
    },
    {
      "cell_type": "code",
      "execution_count": null,
      "metadata": {
        "id": "IHqzBlX9rZnF"
      },
      "outputs": [],
      "source": [
        "sentence_tokens = nltk.sent_tokenize(doc)\n",
        "word_tokens = nltk.word_tokenize(doc)"
      ]
    },
    {
      "cell_type": "code",
      "execution_count": null,
      "metadata": {
        "colab": {
          "base_uri": "https://localhost:8080/"
        },
        "id": "tWiNmeNPrjq5",
        "outputId": "7704ab27-b0f7-442d-fcb7-a94dd6717ff9"
      },
      "outputs": [
        {
          "data": {
            "text/plain": [
              "['a chatbot (originally chatterbot[1]) is a software application or web interface that is designed to mimic human conversation through text or voice interactions.',\n",
              " '[2][3][4] modern chatbots are typically online and use generative artificial intelligence systems that are capable of maintaining a conversation with a user in natural language and simulating the way a human would behave as a conversational partner.']"
            ]
          },
          "execution_count": 6,
          "metadata": {},
          "output_type": "execute_result"
        }
      ],
      "source": [
        "#After tokenization\n",
        "sentence_tokens[:2]\n"
      ]
    },
    {
      "cell_type": "code",
      "execution_count": null,
      "metadata": {
        "colab": {
          "base_uri": "https://localhost:8080/"
        },
        "id": "oGHkuUHQrwH-",
        "outputId": "96bd639d-a323-42ec-fc05-d2c0aedc2705"
      },
      "outputs": [
        {
          "data": {
            "text/plain": [
              "['a', 'chatbot', '(']"
            ]
          },
          "execution_count": 7,
          "metadata": {},
          "output_type": "execute_result"
        }
      ],
      "source": [
        "word_tokens[:3]"
      ]
    },
    {
      "cell_type": "code",
      "execution_count": null,
      "metadata": {
        "id": "b_mtMzCwrxUM"
      },
      "outputs": [],
      "source": [
        "def LemTokens(tokens):\n",
        "  lemmer = nltk.stem.WordNetLemmatizer()\n",
        "  return [lemmer.lemmatize(token) for token in tokens]\n",
        "def LemNormalize(text):\n",
        "  remove_punc_dict = dict((ord(punct),None) for punct in string.punctuation)\n",
        "  return LemTokens(nltk.word_tokenize(text.lower().translate(remove_punc_dict)))"
      ]
    },
    {
      "cell_type": "code",
      "execution_count": null,
      "metadata": {
        "id": "JY5hyUQFxJge"
      },
      "outputs": [],
      "source": [
        "greet_inputs = ('hello','hi','whatsup','how are you?')\n",
        "greet_responses = ('hi','Hey','Hey there!')\n",
        "\n",
        "def greet(sentence):\n",
        "  for word in sentence.split():\n",
        "    if word.lower() in greet_inputs:\n",
        "      return random.choice(greet_responses)"
      ]
    },
    {
      "cell_type": "markdown",
      "metadata": {
        "id": "SjIqk1YFClNz"
      },
      "source": [
        "Response generation by the bot\n"
      ]
    },
    {
      "cell_type": "code",
      "execution_count": null,
      "metadata": {
        "id": "KBtC4BXICoDD"
      },
      "outputs": [],
      "source": [
        "from sklearn.feature_extraction.text import TfidfVectorizer\n",
        "from sklearn.metrics.pairwise import cosine_similarity"
      ]
    },
    {
      "cell_type": "code",
      "execution_count": null,
      "metadata": {
        "id": "T-2smWwXELWd"
      },
      "outputs": [],
      "source": [
        "def response(user_response):\n",
        "  robo1_response = ''\n",
        "  TfidfVec = TfidfVectorizer(tokenizer = LemNormalize, stop_words = 'english')\n",
        "  tfidf = TfidfVec.fit_transform(sentence_tokens)\n",
        "  vals = cosine_similarity(tfidf[-1],tfidf)\n",
        "  idx = vals.argsort()[0][-2]\n",
        "  flat = vals.flatten()\n",
        "  flat.sort()\n",
        "  req_tfidf = flat[-2]\n",
        "  if (req_tfidf == 0):\n",
        "    robo1_response = robo1_response + \"I am sorry. Unable to understand you!\"\n",
        "    return robo1_response\n",
        "  else:\n",
        "    robo1_response = robo1_response + sentence_tokens[idx]\n",
        "    return robo1_response\n"
      ]
    },
    {
      "cell_type": "markdown",
      "metadata": {
        "id": "kCozmUmXsd--"
      },
      "source": [
        "Defining the Chatflow"
      ]
    },
    {
      "cell_type": "code",
      "execution_count": null,
      "metadata": {
        "colab": {
          "background_save": true,
          "base_uri": "https://localhost:8080/"
        },
        "id": "19hg0EKvshmY",
        "outputId": "035b882b-75c6-4a30-e70b-6bdc2315e559"
      },
      "outputs": [
        {
          "name": "stdout",
          "output_type": "stream",
          "text": [
            "Hello! I am a Chatbot. Start typing your text after greeting to talk to me.\n",
            "Bot hi\n",
            "Bot:[2][3][4] modern chatbots are typically online and use generative artificial intelligence systems that are capable of maintaining a conversation with a user in natural language and simulating the way a human would behave as a conversational partner.\n"
          ]
        }
      ],
      "source": [
        "flag = True\n",
        "print('Hello! I am a Chatbot. Start typing your text after greeting to talk to me.')\n",
        "while(flag == True):\n",
        "  user_response = input()\n",
        "  user_response = user_response.lower()\n",
        "  if(user_response != 'bye'):\n",
        "    if(user_response == 'thank you' or user_response == 'thanks'):\n",
        "      flag = False\n",
        "      print('Bot: You are welcome!')\n",
        "    else:\n",
        "      if(greet(user_response) !=  None):\n",
        "        print('Bot ' + greet(user_response))\n",
        "      else:\n",
        "        sentence_tokens.append(user_response)\n",
        "        word_tokens = word_tokens + nltk.word_tokenize(user_response)\n",
        "        final_words = list(set(word_tokens))\n",
        "        print('Bot:',end ='')\n",
        "        print(response(user_response))\n",
        "        sentence_tokens.remove(user_response)\n",
        "  else:\n",
        "    flag = False\n",
        "    print(\"Bot: Goodbye!\")\n",
        "\n"
      ]
    }
  ],
  "metadata": {
    "colab": {
      "provenance": []
    },
    "kernelspec": {
      "display_name": "Python 3",
      "name": "python3"
    },
    "language_info": {
      "name": "python"
    }
  },
  "nbformat": 4,
  "nbformat_minor": 0
}